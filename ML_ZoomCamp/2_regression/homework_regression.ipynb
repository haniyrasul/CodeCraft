{
 "cells": [
  {
   "cell_type": "code",
   "execution_count": 1,
   "id": "92e9ad67-2aa7-43a2-924e-55b7f9074f1a",
   "metadata": {},
   "outputs": [],
   "source": [
    "import numpy as np\n",
    "import pandas as pd\n",
    "import matplotlib.pyplot as plt\n",
    "import seaborn as sns\n",
    "import warnings\n",
    "\n",
    "warnings.filterwarnings('ignore')"
   ]
  },
  {
   "cell_type": "code",
   "execution_count": 2,
   "id": "c7033df7-114a-4c9b-9ae4-aac1a63cc5db",
   "metadata": {},
   "outputs": [
    {
     "data": {
      "text/html": [
       "<div>\n",
       "<style scoped>\n",
       "    .dataframe tbody tr th:only-of-type {\n",
       "        vertical-align: middle;\n",
       "    }\n",
       "\n",
       "    .dataframe tbody tr th {\n",
       "        vertical-align: top;\n",
       "    }\n",
       "\n",
       "    .dataframe thead th {\n",
       "        text-align: right;\n",
       "    }\n",
       "</style>\n",
       "<table border=\"1\" class=\"dataframe\">\n",
       "  <thead>\n",
       "    <tr style=\"text-align: right;\">\n",
       "      <th></th>\n",
       "      <th>longitude</th>\n",
       "      <th>latitude</th>\n",
       "      <th>housing_median_age</th>\n",
       "      <th>total_rooms</th>\n",
       "      <th>total_bedrooms</th>\n",
       "      <th>population</th>\n",
       "      <th>households</th>\n",
       "      <th>median_income</th>\n",
       "      <th>median_house_value</th>\n",
       "      <th>ocean_proximity</th>\n",
       "    </tr>\n",
       "  </thead>\n",
       "  <tbody>\n",
       "    <tr>\n",
       "      <th>0</th>\n",
       "      <td>-122.23</td>\n",
       "      <td>37.88</td>\n",
       "      <td>41.0</td>\n",
       "      <td>880.0</td>\n",
       "      <td>129.0</td>\n",
       "      <td>322.0</td>\n",
       "      <td>126.0</td>\n",
       "      <td>8.3252</td>\n",
       "      <td>452600.0</td>\n",
       "      <td>NEAR BAY</td>\n",
       "    </tr>\n",
       "    <tr>\n",
       "      <th>1</th>\n",
       "      <td>-122.22</td>\n",
       "      <td>37.86</td>\n",
       "      <td>21.0</td>\n",
       "      <td>7099.0</td>\n",
       "      <td>1106.0</td>\n",
       "      <td>2401.0</td>\n",
       "      <td>1138.0</td>\n",
       "      <td>8.3014</td>\n",
       "      <td>358500.0</td>\n",
       "      <td>NEAR BAY</td>\n",
       "    </tr>\n",
       "    <tr>\n",
       "      <th>2</th>\n",
       "      <td>-122.24</td>\n",
       "      <td>37.85</td>\n",
       "      <td>52.0</td>\n",
       "      <td>1467.0</td>\n",
       "      <td>190.0</td>\n",
       "      <td>496.0</td>\n",
       "      <td>177.0</td>\n",
       "      <td>7.2574</td>\n",
       "      <td>352100.0</td>\n",
       "      <td>NEAR BAY</td>\n",
       "    </tr>\n",
       "    <tr>\n",
       "      <th>3</th>\n",
       "      <td>-122.25</td>\n",
       "      <td>37.85</td>\n",
       "      <td>52.0</td>\n",
       "      <td>1274.0</td>\n",
       "      <td>235.0</td>\n",
       "      <td>558.0</td>\n",
       "      <td>219.0</td>\n",
       "      <td>5.6431</td>\n",
       "      <td>341300.0</td>\n",
       "      <td>NEAR BAY</td>\n",
       "    </tr>\n",
       "    <tr>\n",
       "      <th>4</th>\n",
       "      <td>-122.25</td>\n",
       "      <td>37.85</td>\n",
       "      <td>52.0</td>\n",
       "      <td>1627.0</td>\n",
       "      <td>280.0</td>\n",
       "      <td>565.0</td>\n",
       "      <td>259.0</td>\n",
       "      <td>3.8462</td>\n",
       "      <td>342200.0</td>\n",
       "      <td>NEAR BAY</td>\n",
       "    </tr>\n",
       "  </tbody>\n",
       "</table>\n",
       "</div>"
      ],
      "text/plain": [
       "   longitude  latitude  housing_median_age  total_rooms  total_bedrooms  \\\n",
       "0    -122.23     37.88                41.0        880.0           129.0   \n",
       "1    -122.22     37.86                21.0       7099.0          1106.0   \n",
       "2    -122.24     37.85                52.0       1467.0           190.0   \n",
       "3    -122.25     37.85                52.0       1274.0           235.0   \n",
       "4    -122.25     37.85                52.0       1627.0           280.0   \n",
       "\n",
       "   population  households  median_income  median_house_value ocean_proximity  \n",
       "0       322.0       126.0         8.3252            452600.0        NEAR BAY  \n",
       "1      2401.0      1138.0         8.3014            358500.0        NEAR BAY  \n",
       "2       496.0       177.0         7.2574            352100.0        NEAR BAY  \n",
       "3       558.0       219.0         5.6431            341300.0        NEAR BAY  \n",
       "4       565.0       259.0         3.8462            342200.0        NEAR BAY  "
      ]
     },
     "execution_count": 2,
     "metadata": {},
     "output_type": "execute_result"
    }
   ],
   "source": [
    "df = pd.read_csv('housing.csv')\n",
    "df.head()"
   ]
  },
  {
   "cell_type": "markdown",
   "id": "e0805a34-cd32-4039-90db-bb08fe99a4ba",
   "metadata": {},
   "source": [
    "## 0. EDA"
   ]
  },
  {
   "cell_type": "code",
   "execution_count": 3,
   "id": "e8380095-3fde-49ad-8b73-37d2279b2fa2",
   "metadata": {},
   "outputs": [
    {
     "data": {
      "text/plain": [
       "Index(['longitude', 'latitude', 'housing_median_age', 'total_rooms',\n",
       "       'total_bedrooms', 'population', 'households', 'median_income',\n",
       "       'median_house_value', 'ocean_proximity'],\n",
       "      dtype='object')"
      ]
     },
     "execution_count": 3,
     "metadata": {},
     "output_type": "execute_result"
    }
   ],
   "source": [
    "df.columns"
   ]
  },
  {
   "cell_type": "code",
   "execution_count": 4,
   "id": "9dcdf978-7272-4511-88fe-a290ac1a2db6",
   "metadata": {},
   "outputs": [
    {
     "data": {
      "text/plain": [
       "longitude             float64\n",
       "latitude              float64\n",
       "housing_median_age    float64\n",
       "total_rooms           float64\n",
       "total_bedrooms        float64\n",
       "population            float64\n",
       "households            float64\n",
       "median_income         float64\n",
       "median_house_value    float64\n",
       "ocean_proximity        object\n",
       "dtype: object"
      ]
     },
     "execution_count": 4,
     "metadata": {},
     "output_type": "execute_result"
    }
   ],
   "source": [
    "df.dtypes"
   ]
  },
  {
   "cell_type": "code",
   "execution_count": 5,
   "id": "99d74986-bceb-4e65-99e4-f95d8e3bc32c",
   "metadata": {},
   "outputs": [
    {
     "data": {
      "text/plain": [
       "ocean_proximity\n",
       "<1H OCEAN     9136\n",
       "INLAND        6551\n",
       "NEAR OCEAN    2658\n",
       "NEAR BAY      2290\n",
       "ISLAND           5\n",
       "Name: count, dtype: int64"
      ]
     },
     "execution_count": 5,
     "metadata": {},
     "output_type": "execute_result"
    }
   ],
   "source": [
    "df.ocean_proximity.value_counts()"
   ]
  },
  {
   "cell_type": "code",
   "execution_count": 6,
   "id": "ae618263-76d7-4626-9e2d-e5ebbcadd811",
   "metadata": {},
   "outputs": [
    {
     "data": {
      "image/png": "[encoded data removed]",
      "text/plain": [
       "<Figure size 640x480 with 1 Axes>"
      ]
     },
     "metadata": {},
     "output_type": "display_data"
    }
   ],
   "source": [
    "sns.histplot(x=df.median_house_value);"
   ]
  },
  {
   "cell_type": "markdown",
   "id": "f8a7f7ab-2993-4504-b792-ec38cf092ae6",
   "metadata": {},
   "source": [
    "### Insight: It has the long tail"
   ]
  },
  {
   "cell_type": "markdown",
   "id": "feaa0030-c843-422f-b20a-dc2067a7b64a",
   "metadata": {},
   "source": [
    "## 1. Preparing the dataset"
   ]
  },
  {
   "cell_type": "code",
   "execution_count": 7,
   "id": "015b5886-88bb-4404-943d-7f391a352dde",
   "metadata": {},
   "outputs": [],
   "source": [
    "# I'll go with <1H OCEAN data.\n",
    "df_sub = df[df.ocean_proximity == '<1H OCEAN']"
   ]
  },
  {
   "cell_type": "code",
   "execution_count": 8,
   "id": "5095c88b-3a84-4eb3-a218-ae14951e9cfc",
   "metadata": {},
   "outputs": [],
   "source": [
    "df_sub.drop(columns=['ocean_proximity'], inplace=True)"
   ]
  },
  {
   "cell_type": "code",
   "execution_count": 9,
   "id": "71950845-c6c6-4473-abf8-f1b6ee4368ae",
   "metadata": {},
   "outputs": [
    {
     "name": "stdout",
     "output_type": "stream",
     "text": [
      "<class 'pandas.core.frame.DataFrame'>\n",
      "Index: 9136 entries, 701 to 20506\n",
      "Data columns (total 9 columns):\n",
      " #   Column              Non-Null Count  Dtype  \n",
      "---  ------              --------------  -----  \n",
      " 0   longitude           9136 non-null   float64\n",
      " 1   latitude            9136 non-null   float64\n",
      " 2   housing_median_age  9136 non-null   float64\n",
      " 3   total_rooms         9136 non-null   float64\n",
      " 4   total_bedrooms      9034 non-null   float64\n",
      " 5   population          9136 non-null   float64\n",
      " 6   households          9136 non-null   float64\n",
      " 7   median_income       9136 non-null   float64\n",
      " 8   median_house_value  9136 non-null   float64\n",
      "dtypes: float64(9)\n",
      "memory usage: 713.8 KB\n"
     ]
    }
   ],
   "source": [
    "df_sub.info()"
   ]
  },
  {
   "cell_type": "markdown",
   "id": "728b48d7-a5eb-436e-bb89-c4bc17350af1",
   "metadata": {},
   "source": [
    "### Q01: Total_bedrooms feature has 102 missing values."
   ]
  },
  {
   "cell_type": "code",
   "execution_count": 10,
   "id": "052ee9b5-d13d-4600-b753-bfe7a3797f2f",
   "metadata": {},
   "outputs": [
    {
     "data": {
      "text/plain": [
       "longitude               0\n",
       "latitude                0\n",
       "housing_median_age      0\n",
       "total_rooms             0\n",
       "total_bedrooms        102\n",
       "population              0\n",
       "households              0\n",
       "median_income           0\n",
       "median_house_value      0\n",
       "dtype: int64"
      ]
     },
     "execution_count": 10,
     "metadata": {},
     "output_type": "execute_result"
    }
   ],
   "source": [
    "df_sub.isnull().sum()"
   ]
  },
  {
   "cell_type": "markdown",
   "id": "c3049a6e-4667-4472-be4c-bd607405188d",
   "metadata": {},
   "source": [
    "### Q02. What's the median (50% percentile) for variable 'population'?: 1247"
   ]
  },
  {
   "cell_type": "code",
   "execution_count": 11,
   "id": "db3b6dcf-49bb-478f-a053-a5ced90dfcf8",
   "metadata": {},
   "outputs": [
    {
     "data": {
      "text/plain": [
       "count     9136.000000\n",
       "mean      1520.290499\n",
       "std       1185.848357\n",
       "min          3.000000\n",
       "25%        857.750000\n",
       "50%       1247.000000\n",
       "75%       1848.000000\n",
       "max      35682.000000\n",
       "Name: population, dtype: float64"
      ]
     },
     "execution_count": 11,
     "metadata": {},
     "output_type": "execute_result"
    }
   ],
   "source": [
    "df_sub.population.describe()"
   ]
  },
  {
   "cell_type": "code",
   "execution_count": 12,
   "id": "7cd1b716-5ced-46c2-b45b-8b0ea18a846d",
   "metadata": {},
   "outputs": [],
   "source": [
    "# prepare and split the dataset\n",
    "# train/val/test --> 60/20/20\n",
    "n = len(df_sub)\n",
    "n_val = int(n * 0.2)\n",
    "n_test = int(n * 0.2)\n",
    "n_train = n - n_val - n_test"
   ]
  },
  {
   "cell_type": "code",
   "execution_count": 13,
   "id": "42f0122e-03d9-408e-ae0d-4efa5b86bca1",
   "metadata": {},
   "outputs": [
    {
     "data": {
      "text/plain": [
       "(1827, 1827, 5482)"
      ]
     },
     "execution_count": 13,
     "metadata": {},
     "output_type": "execute_result"
    }
   ],
   "source": [
    "n_val, n_test, n_train"
   ]
  },
  {
   "cell_type": "code",
   "execution_count": 14,
   "id": "05d1dced-0d50-4959-bf2f-7d182ff01890",
   "metadata": {},
   "outputs": [],
   "source": [
    "idx = np.arange(n)\n",
    "np.random.seed(42)\n",
    "np.random.shuffle(idx)\n",
    "\n",
    "df_train = df_sub.iloc[idx[:n_train]]\n",
    "df_val = df_sub.iloc[idx[n_train:n_train+n_val]]\n",
    "df_test = df_sub.iloc[idx[n_train+n_val:]]"
   ]
  },
  {
   "cell_type": "code",
   "execution_count": 15,
   "id": "e79b4f63-4169-4300-8558-ab5231525e81",
   "metadata": {},
   "outputs": [
    {
     "data": {
      "text/html": [
       "<div>\n",
       "<style scoped>\n",
       "    .dataframe tbody tr th:only-of-type {\n",
       "        vertical-align: middle;\n",
       "    }\n",
       "\n",
       "    .dataframe tbody tr th {\n",
       "        vertical-align: top;\n",
       "    }\n",
       "\n",
       "    .dataframe thead th {\n",
       "        text-align: right;\n",
       "    }\n",
       "</style>\n",
       "<table border=\"1\" class=\"dataframe\">\n",
       "  <thead>\n",
       "    <tr style=\"text-align: right;\">\n",
       "      <th></th>\n",
       "      <th>longitude</th>\n",
       "      <th>latitude</th>\n",
       "      <th>housing_median_age</th>\n",
       "      <th>total_rooms</th>\n",
       "      <th>total_bedrooms</th>\n",
       "      <th>population</th>\n",
       "      <th>households</th>\n",
       "      <th>median_income</th>\n",
       "      <th>median_house_value</th>\n",
       "    </tr>\n",
       "  </thead>\n",
       "  <tbody>\n",
       "    <tr>\n",
       "      <th>3925</th>\n",
       "      <td>-118.56</td>\n",
       "      <td>34.18</td>\n",
       "      <td>36.0</td>\n",
       "      <td>1366.0</td>\n",
       "      <td>224.0</td>\n",
       "      <td>719.0</td>\n",
       "      <td>270.0</td>\n",
       "      <td>4.8264</td>\n",
       "      <td>251000.0</td>\n",
       "    </tr>\n",
       "    <tr>\n",
       "      <th>922</th>\n",
       "      <td>-121.92</td>\n",
       "      <td>37.53</td>\n",
       "      <td>7.0</td>\n",
       "      <td>28258.0</td>\n",
       "      <td>3864.0</td>\n",
       "      <td>12203.0</td>\n",
       "      <td>3701.0</td>\n",
       "      <td>8.4045</td>\n",
       "      <td>451100.0</td>\n",
       "    </tr>\n",
       "    <tr>\n",
       "      <th>7643</th>\n",
       "      <td>-118.27</td>\n",
       "      <td>33.82</td>\n",
       "      <td>33.0</td>\n",
       "      <td>1596.0</td>\n",
       "      <td>337.0</td>\n",
       "      <td>1650.0</td>\n",
       "      <td>329.0</td>\n",
       "      <td>4.3687</td>\n",
       "      <td>173500.0</td>\n",
       "    </tr>\n",
       "    <tr>\n",
       "      <th>4730</th>\n",
       "      <td>-118.36</td>\n",
       "      <td>34.05</td>\n",
       "      <td>48.0</td>\n",
       "      <td>1835.0</td>\n",
       "      <td>380.0</td>\n",
       "      <td>956.0</td>\n",
       "      <td>370.0</td>\n",
       "      <td>3.2813</td>\n",
       "      <td>243600.0</td>\n",
       "    </tr>\n",
       "    <tr>\n",
       "      <th>7334</th>\n",
       "      <td>-118.18</td>\n",
       "      <td>33.98</td>\n",
       "      <td>40.0</td>\n",
       "      <td>1698.0</td>\n",
       "      <td>431.0</td>\n",
       "      <td>1280.0</td>\n",
       "      <td>405.0</td>\n",
       "      <td>2.6250</td>\n",
       "      <td>206300.0</td>\n",
       "    </tr>\n",
       "  </tbody>\n",
       "</table>\n",
       "</div>"
      ],
      "text/plain": [
       "      longitude  latitude  housing_median_age  total_rooms  total_bedrooms  \\\n",
       "3925    -118.56     34.18                36.0       1366.0           224.0   \n",
       "922     -121.92     37.53                 7.0      28258.0          3864.0   \n",
       "7643    -118.27     33.82                33.0       1596.0           337.0   \n",
       "4730    -118.36     34.05                48.0       1835.0           380.0   \n",
       "7334    -118.18     33.98                40.0       1698.0           431.0   \n",
       "\n",
       "      population  households  median_income  median_house_value  \n",
       "3925       719.0       270.0         4.8264            251000.0  \n",
       "922      12203.0      3701.0         8.4045            451100.0  \n",
       "7643      1650.0       329.0         4.3687            173500.0  \n",
       "4730       956.0       370.0         3.2813            243600.0  \n",
       "7334      1280.0       405.0         2.6250            206300.0  "
      ]
     },
     "execution_count": 15,
     "metadata": {},
     "output_type": "execute_result"
    }
   ],
   "source": [
    "df_train.head()"
   ]
  },
  {
   "cell_type": "code",
   "execution_count": 16,
   "id": "118e56c4-95a5-493a-a126-ab28a558252c",
   "metadata": {},
   "outputs": [
    {
     "data": {
      "text/plain": [
       "5482"
      ]
     },
     "execution_count": 16,
     "metadata": {},
     "output_type": "execute_result"
    }
   ],
   "source": [
    "len(df_train)"
   ]
  },
  {
   "cell_type": "code",
   "execution_count": 17,
   "id": "0963822b-6cb2-464c-8fb7-8c5b5ddf40a8",
   "metadata": {},
   "outputs": [],
   "source": [
    "df_train = df_train.reset_index(drop=True)\n",
    "df_test = df_test.reset_index(drop=True)\n",
    "df_val = df_val.reset_index(drop=True)"
   ]
  },
  {
   "cell_type": "code",
   "execution_count": 18,
   "id": "56e8437d-3c4b-4412-8f08-63fadf3c5188",
   "metadata": {},
   "outputs": [],
   "source": [
    "y_train = np.log1p(df_train.median_house_value.values)\n",
    "y_test = np.log1p(df_test.median_house_value.values)\n",
    "y_val = np.log1p(df_val.median_house_value.values)"
   ]
  },
  {
   "cell_type": "code",
   "execution_count": 19,
   "id": "ddf76f68-15df-41fc-849b-0cd00c1c263a",
   "metadata": {},
   "outputs": [],
   "source": [
    "del df_train['median_house_value']\n",
    "del df_test['median_house_value']\n",
    "del df_val['median_house_value']"
   ]
  },
  {
   "cell_type": "code",
   "execution_count": 20,
   "id": "2578925d-cc6c-424e-856f-6716df8de848",
   "metadata": {},
   "outputs": [
    {
     "data": {
      "text/plain": [
       "array([12.4332122 , 13.01944654, 12.06393864, ..., 12.33622772,\n",
       "       12.11231676, 12.5964275 ])"
      ]
     },
     "execution_count": 20,
     "metadata": {},
     "output_type": "execute_result"
    }
   ],
   "source": [
    "y_train"
   ]
  },
  {
   "cell_type": "code",
   "execution_count": 21,
   "id": "b5464b9b-0867-4c6f-8f68-f7d88b673d0d",
   "metadata": {},
   "outputs": [
    {
     "data": {
      "text/html": [
       "<div>\n",
       "<style scoped>\n",
       "    .dataframe tbody tr th:only-of-type {\n",
       "        vertical-align: middle;\n",
       "    }\n",
       "\n",
       "    .dataframe tbody tr th {\n",
       "        vertical-align: top;\n",
       "    }\n",
       "\n",
       "    .dataframe thead th {\n",
       "        text-align: right;\n",
       "    }\n",
       "</style>\n",
       "<table border=\"1\" class=\"dataframe\">\n",
       "  <thead>\n",
       "    <tr style=\"text-align: right;\">\n",
       "      <th></th>\n",
       "      <th>longitude</th>\n",
       "      <th>latitude</th>\n",
       "      <th>housing_median_age</th>\n",
       "      <th>total_rooms</th>\n",
       "      <th>total_bedrooms</th>\n",
       "      <th>population</th>\n",
       "      <th>households</th>\n",
       "      <th>median_income</th>\n",
       "    </tr>\n",
       "  </thead>\n",
       "  <tbody>\n",
       "    <tr>\n",
       "      <th>0</th>\n",
       "      <td>-118.56</td>\n",
       "      <td>34.18</td>\n",
       "      <td>36.0</td>\n",
       "      <td>1366.0</td>\n",
       "      <td>224.0</td>\n",
       "      <td>719.0</td>\n",
       "      <td>270.0</td>\n",
       "      <td>4.8264</td>\n",
       "    </tr>\n",
       "    <tr>\n",
       "      <th>1</th>\n",
       "      <td>-121.92</td>\n",
       "      <td>37.53</td>\n",
       "      <td>7.0</td>\n",
       "      <td>28258.0</td>\n",
       "      <td>3864.0</td>\n",
       "      <td>12203.0</td>\n",
       "      <td>3701.0</td>\n",
       "      <td>8.4045</td>\n",
       "    </tr>\n",
       "    <tr>\n",
       "      <th>2</th>\n",
       "      <td>-118.27</td>\n",
       "      <td>33.82</td>\n",
       "      <td>33.0</td>\n",
       "      <td>1596.0</td>\n",
       "      <td>337.0</td>\n",
       "      <td>1650.0</td>\n",
       "      <td>329.0</td>\n",
       "      <td>4.3687</td>\n",
       "    </tr>\n",
       "    <tr>\n",
       "      <th>3</th>\n",
       "      <td>-118.36</td>\n",
       "      <td>34.05</td>\n",
       "      <td>48.0</td>\n",
       "      <td>1835.0</td>\n",
       "      <td>380.0</td>\n",
       "      <td>956.0</td>\n",
       "      <td>370.0</td>\n",
       "      <td>3.2813</td>\n",
       "    </tr>\n",
       "    <tr>\n",
       "      <th>4</th>\n",
       "      <td>-118.18</td>\n",
       "      <td>33.98</td>\n",
       "      <td>40.0</td>\n",
       "      <td>1698.0</td>\n",
       "      <td>431.0</td>\n",
       "      <td>1280.0</td>\n",
       "      <td>405.0</td>\n",
       "      <td>2.6250</td>\n",
       "    </tr>\n",
       "  </tbody>\n",
       "</table>\n",
       "</div>"
      ],
      "text/plain": [
       "   longitude  latitude  housing_median_age  total_rooms  total_bedrooms  \\\n",
       "0    -118.56     34.18                36.0       1366.0           224.0   \n",
       "1    -121.92     37.53                 7.0      28258.0          3864.0   \n",
       "2    -118.27     33.82                33.0       1596.0           337.0   \n",
       "3    -118.36     34.05                48.0       1835.0           380.0   \n",
       "4    -118.18     33.98                40.0       1698.0           431.0   \n",
       "\n",
       "   population  households  median_income  \n",
       "0       719.0       270.0         4.8264  \n",
       "1     12203.0      3701.0         8.4045  \n",
       "2      1650.0       329.0         4.3687  \n",
       "3       956.0       370.0         3.2813  \n",
       "4      1280.0       405.0         2.6250  "
      ]
     },
     "execution_count": 21,
     "metadata": {},
     "output_type": "execute_result"
    }
   ],
   "source": [
    "df_train.head()"
   ]
  },
  {
   "cell_type": "code",
   "execution_count": 22,
   "id": "d9f6563b-9b96-4833-9ff5-4a86171a1b71",
   "metadata": {},
   "outputs": [
    {
     "data": {
      "text/plain": [
       "array([[-1.1856e+02,  3.4180e+01,  3.6000e+01,  1.3660e+03,  2.2400e+02,\n",
       "         7.1900e+02,  2.7000e+02,  4.8264e+00],\n",
       "       [-1.2192e+02,  3.7530e+01,  7.0000e+00,  2.8258e+04,  3.8640e+03,\n",
       "         1.2203e+04,  3.7010e+03,  8.4045e+00],\n",
       "       [-1.1827e+02,  3.3820e+01,  3.3000e+01,  1.5960e+03,  3.3700e+02,\n",
       "         1.6500e+03,  3.2900e+02,  4.3687e+00],\n",
       "       [-1.1836e+02,  3.4050e+01,  4.8000e+01,  1.8350e+03,  3.8000e+02,\n",
       "         9.5600e+02,  3.7000e+02,  3.2813e+00],\n",
       "       [-1.1818e+02,  3.3980e+01,  4.0000e+01,  1.6980e+03,  4.3100e+02,\n",
       "         1.2800e+03,  4.0500e+02,  2.6250e+00]])"
      ]
     },
     "execution_count": 22,
     "metadata": {},
     "output_type": "execute_result"
    }
   ],
   "source": [
    "df_train.values[:5]"
   ]
  },
  {
   "cell_type": "markdown",
   "id": "3649c5c9-237d-49a3-a78d-66af85704513",
   "metadata": {},
   "source": [
    "### Q03: Missing Values with 0 and Mean"
   ]
  },
  {
   "cell_type": "code",
   "execution_count": 23,
   "id": "42d3ab9e-0adc-4805-b6a9-fed45e56bcc1",
   "metadata": {},
   "outputs": [
    {
     "data": {
      "text/plain": [
       "['longitude',\n",
       " 'latitude',\n",
       " 'housing_median_age',\n",
       " 'total_rooms',\n",
       " 'total_bedrooms',\n",
       " 'population',\n",
       " 'households',\n",
       " 'median_income']"
      ]
     },
     "execution_count": 23,
     "metadata": {},
     "output_type": "execute_result"
    }
   ],
   "source": [
    "# features\n",
    "features = list(df_sub.columns)\n",
    "features = features[:-1]\n",
    "features"
   ]
  },
  {
   "cell_type": "code",
   "execution_count": 24,
   "id": "bad652ed-cb86-4d5d-b435-dabcd978ec9f",
   "metadata": {},
   "outputs": [],
   "source": [
    "def dot(x, w):\n",
    "    n = len(x)\n",
    "\n",
    "    res = 0.0\n",
    "\n",
    "    for j in range(x):\n",
    "        res = res + x[j]*w[j]\n",
    "\n",
    "    return res"
   ]
  },
  {
   "cell_type": "code",
   "execution_count": 25,
   "id": "f161eea6-f1cf-4474-8034-92df2543c1e8",
   "metadata": {},
   "outputs": [],
   "source": [
    "# defining the linear_regression_model\n",
    "def linear_regression_model(X, y):\n",
    "    ones = np.ones(X.shape[0])\n",
    "    X = np.column_stack([ones, X])\n",
    "\n",
    "    XTX = X.T.dot(X)\n",
    "    XTX_inv = np.linalg.inv(XTX)\n",
    "    w_full = XTX_inv.dot(X.T).dot(y)\n",
    "    \n",
    "    return w_full[0], w_full[1:]\n",
    "    "
   ]
  },
  {
   "cell_type": "code",
   "execution_count": 26,
   "id": "76a1b742-efe7-416a-8cbb-97bb49be11ff",
   "metadata": {},
   "outputs": [],
   "source": [
    "# defining the Root Mean Square Error\n",
    "def rmse(y, y_pred):\n",
    "    error = y - y_pred\n",
    "    sr = error ** 2\n",
    "    mse = sr.mean()\n",
    "    return round(np.sqrt(mse), 2)"
   ]
  },
  {
   "cell_type": "markdown",
   "id": "c779b660-691a-411c-b055-8eb5859863ce",
   "metadata": {},
   "source": [
    "#### Methods: \n",
    " * Filling the missing values with zeros\n",
    " * Filling the missing values with mean"
   ]
  },
  {
   "cell_type": "code",
   "execution_count": 27,
   "id": "c38184dd-82eb-4398-a4f3-76c217e3e126",
   "metadata": {},
   "outputs": [],
   "source": [
    "def prepare_X_zero(df):\n",
    "    # df = df.copy()\n",
    "\n",
    "    df_num = df[features]\n",
    "    df_num = df_num.fillna(0)\n",
    "    X = df_num.values\n",
    "    return X"
   ]
  },
  {
   "cell_type": "code",
   "execution_count": 28,
   "id": "9a159f3e-53c5-46e1-a333-e98075149bfb",
   "metadata": {},
   "outputs": [],
   "source": [
    "def prepare_X_mean(df):\n",
    "    df = df.copy()\n",
    "\n",
    "    df_num = df[features]\n",
    "    df_num = df_num.fillna(df['total_bedrooms'].mean())\n",
    "    X = df_num.values\n",
    "    return X"
   ]
  },
  {
   "cell_type": "code",
   "execution_count": 29,
   "id": "ffb37605-aa32-4431-ada9-f1878a8d2c96",
   "metadata": {},
   "outputs": [
    {
     "data": {
      "text/plain": [
       "0.29"
      ]
     },
     "execution_count": 29,
     "metadata": {},
     "output_type": "execute_result"
    }
   ],
   "source": [
    "X_train = prepare_X_zero(df_train)\n",
    "w0, w = linear_regression_model(X_train, y_train)\n",
    "\n",
    "X_val = prepare_X_zero(df_val)\n",
    "y_pred = w0 + X_val.dot(w)\n",
    "\n",
    "rmse(y_val, y_pred)"
   ]
  },
  {
   "cell_type": "code",
   "execution_count": 30,
   "id": "bc27fd3d-f797-43e1-9aa6-7b487e5c4b60",
   "metadata": {},
   "outputs": [
    {
     "data": {
      "text/plain": [
       "0.29"
      ]
     },
     "execution_count": 30,
     "metadata": {},
     "output_type": "execute_result"
    }
   ],
   "source": [
    "X_train = prepare_X_mean(df_train)\n",
    "w0, w = linear_regression_model(X_train, y_train)\n",
    "\n",
    "X_val = prepare_X_mean(df_val)\n",
    "y_pred = w0 + X_val.dot(w)\n",
    "\n",
    "rmse(y_val, y_pred)"
   ]
  },
  {
   "cell_type": "markdown",
   "id": "0551b9ab-e567-414d-9e1a-0c8e19dba31c",
   "metadata": {},
   "source": [
    "#### Both give the same answer."
   ]
  },
  {
   "cell_type": "markdown",
   "id": "dd9761ff-05d6-48dd-b763-b2897fd97863",
   "metadata": {},
   "source": [
    "### Q4. Train with Regularization"
   ]
  },
  {
   "cell_type": "code",
   "execution_count": 31,
   "id": "126fa2c8-513d-4fea-a9b5-ad458984042a",
   "metadata": {},
   "outputs": [],
   "source": [
    "# defining the linear_regression_model with regularization\n",
    "def linear_regression_model_reg(X, y, r=0.01):\n",
    "    ones = np.ones(X.shape[0])\n",
    "    X = np.column_stack([ones, X])\n",
    "\n",
    "    XTX = X.T.dot(X)\n",
    "    XTX = XTX + r * np.eye(XTX.shape[0])\n",
    "    \n",
    "    XTX_inv = np.linalg.inv(XTX)\n",
    "    w_full = XTX_inv.dot(X.T).dot(y)\n",
    "    \n",
    "    return w_full[0], w_full[1:]\n",
    "    "
   ]
  },
  {
   "cell_type": "code",
   "execution_count": 32,
   "id": "43d3dc9f-7016-4ccc-afe5-08584aca727b",
   "metadata": {},
   "outputs": [
    {
     "name": "stdout",
     "output_type": "stream",
     "text": [
      "0 -5.832275809117563 0.29\n",
      "1e-06 -5.832181744089903 0.29\n",
      "0.0001 -5.822884354338061 0.29\n",
      "0.001 -5.739702031521093 0.29\n",
      "0.01 -5.022189632809177 0.29\n",
      "0.1 -2.2307579633763748 0.29\n",
      "1 -0.337261218026239 0.29\n",
      "5 -0.0678737384780668 0.29\n",
      "10 -0.032334207834188694 0.29\n"
     ]
    }
   ],
   "source": [
    "for r in [0, 0.000001, 0.0001, 0.001, 0.01, 0.1, 1, 5, 10]:\n",
    "    X_train = prepare_X_zero(df_train)\n",
    "    w0, w = linear_regression_model_reg(X_train, y_train, r)\n",
    "    \n",
    "    X_val = prepare_X_zero(df_val)\n",
    "    y_pred = w0 + X_val.dot(w)\n",
    "    score = rmse(y_val, y_pred)\n",
    "\n",
    "    print(r, w0, score)"
   ]
  },
  {
   "cell_type": "markdown",
   "id": "582101bf-b55c-41b0-981e-39806a84b5bf",
   "metadata": {},
   "source": [
    "### Q5. Different Seed"
   ]
  },
  {
   "cell_type": "code",
   "execution_count": 33,
   "id": "290512b2-7900-48d1-9be5-5d566e835c70",
   "metadata": {},
   "outputs": [],
   "source": [
    "def dif_seed(df, seed=42):\n",
    "    n = len(df)\n",
    "    n_val = int(n * 0.2)\n",
    "    n_test = int(n * 0.2)\n",
    "    n_train = n - n_val - n_test\n",
    "    \n",
    "    idx = np.arange(n)\n",
    "    np.random.seed(seed)\n",
    "    np.random.shuffle(idx)\n",
    "    \n",
    "    df_train = df.iloc[idx[:n_train]]\n",
    "    df_val = df.iloc[idx[n_train:n_train+n_val]]\n",
    "    df_test = df.iloc[idx[n_train+n_val:]]\n",
    "\n",
    "    X_train = prepare_X_zero(df_train)\n",
    "    w0, w = linear_regression_model(X_train, y_train)\n",
    "    \n",
    "    X_val = prepare_X_zero(df_val)\n",
    "    y_pred = w0 + X_val.dot(w)\n",
    "    \n",
    "    score = rmse(y_val, y_pred)\n",
    "\n",
    "    return score\n"
   ]
  },
  {
   "cell_type": "code",
   "execution_count": 34,
   "id": "04a6b82a-4461-4264-bb94-f9903e741c23",
   "metadata": {
    "scrolled": true
   },
   "outputs": [
    {
     "name": "stdout",
     "output_type": "stream",
     "text": [
      "0 0.42\n",
      "1 0.42\n",
      "2 0.42\n",
      "3 0.42\n",
      "4 0.42\n",
      "5 0.42\n",
      "6 0.42\n",
      "7 0.42\n",
      "8 0.42\n",
      "9 0.42\n"
     ]
    }
   ],
   "source": [
    "scores = []\n",
    "for seed in [0, 1, 2, 3, 4, 5, 6, 7, 8, 9]:\n",
    "    score = dif_seed(df_sub, seed)\n",
    "    scores.append(score)\n",
    "    print(seed, score)"
   ]
  },
  {
   "cell_type": "markdown",
   "id": "653d9450-99dd-4841-8765-e791973a74d0",
   "metadata": {},
   "source": [
    "### Q6."
   ]
  },
  {
   "cell_type": "code",
   "execution_count": 35,
   "id": "100a11d3-ccdc-483f-80a8-a00e3cd01be0",
   "metadata": {},
   "outputs": [],
   "source": [
    "n = len(df_sub)\n",
    "n_val = int(n * 0.2)\n",
    "n_test = int(n * 0.2)\n",
    "n_train = n - n_val - n_test"
   ]
  },
  {
   "cell_type": "code",
   "execution_count": 36,
   "id": "d0c3dfdc-3653-426c-9d8a-832d9d18c90f",
   "metadata": {},
   "outputs": [],
   "source": [
    "idx = np.arange(n)\n",
    "np.random.seed(9)\n",
    "np.random.shuffle(idx)\n",
    "\n",
    "df_train = df_sub.iloc[idx[:n_train]]\n",
    "df_val = df_sub.iloc[idx[n_train:n_train+n_val]]\n",
    "df_test = df_sub.iloc[idx[n_train+n_val:]]"
   ]
  },
  {
   "cell_type": "code",
   "execution_count": 37,
   "id": "0f52346c-d5ef-406f-9ba5-2e4dec216631",
   "metadata": {},
   "outputs": [
    {
     "data": {
      "text/plain": [
       "0.43"
      ]
     },
     "execution_count": 37,
     "metadata": {},
     "output_type": "execute_result"
    }
   ],
   "source": [
    "df_full_train = pd.concat([df_train, df_val])\n",
    "df_full_train = df_full_train.reset_index(drop=True)\n",
    "\n",
    "y_full_train = np.concatenate([y_train, y_val])\n",
    "    \n",
    "X_full_train = prepare_X_zero(df_full_train)\n",
    "w0, w = linear_regression_model_reg(X_full_train, y_full_train, r=0.001)\n",
    "    \n",
    "X_test = prepare_X_zero(df_test)\n",
    "y_pred = w0 + X_test.dot(w)\n",
    "rmse(y_test, y_pred)"
   ]
  },
  {
   "cell_type": "code",
   "execution_count": null,
   "id": "993f8768-bdf2-4f78-b1f4-e20e22f5f07d",
   "metadata": {},
   "outputs": [],
   "source": []
  }
 ],
 "metadata": {
  "kernelspec": {
   "display_name": "Python 3 (ipykernel)",
   "language": "python",
   "name": "python3"
  },
  "language_info": {
   "codemirror_mode": {
    "name": "ipython",
    "version": 3
   },
   "file_extension": ".py",
   "mimetype": "text/x-python",
   "name": "python",
   "nbconvert_exporter": "python",
   "pygments_lexer": "ipython3",
   "version": "3.9.19"
  }
 },
 "nbformat": 4,
 "nbformat_minor": 5
}
