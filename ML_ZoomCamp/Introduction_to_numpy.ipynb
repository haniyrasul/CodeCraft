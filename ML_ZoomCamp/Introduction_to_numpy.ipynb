{
 "cells": [
  {
   "cell_type": "markdown",
   "id": "f1555291-c83b-44c9-9861-5a2b00fc4412",
   "metadata": {},
   "source": [
    "# Machine Learning Zoomcamp"
   ]
  },
  {
   "cell_type": "markdown",
   "id": "2f4aaebe-e1e0-404e-82ba-1b99a56198a3",
   "metadata": {},
   "source": [
    "## 1.7 Introduction to Numpy\n",
    "* Plan: <br>\n",
    "  * Creating arrays\n",
    "  * Multi-dimentional arrays\n",
    "  * Randomly generated arrays\n",
    "  * Element-wise operations\n",
    "    * Comparision operations\n",
    "    * Logical operations\n",
    "  * Summarizing operations"
   ]
  },
  {
   "cell_type": "code",
   "execution_count": 2,
   "id": "f617a474-c1fb-4136-9959-33e9e2df201e",
   "metadata": {},
   "outputs": [],
   "source": [
    "import numpy as np"
   ]
  },
  {
   "cell_type": "code",
   "execution_count": 3,
   "id": "306d779f-6ac4-4974-816b-b939b5c977c0",
   "metadata": {},
   "outputs": [
    {
     "data": {
      "text/plain": [
       "<module 'numpy' from '/home/rasul/anaconda3/envs/ml-zoomcamp/lib/python3.9/site-packages/numpy/__init__.py'>"
      ]
     },
     "execution_count": 3,
     "metadata": {},
     "output_type": "execute_result"
    }
   ],
   "source": [
    "np"
   ]
  },
  {
   "cell_type": "markdown",
   "id": "dd8cbc48-cb7b-4cb1-8f1c-d1132df64b6f",
   "metadata": {},
   "source": [
    "## Creating arrays"
   ]
  },
  {
   "cell_type": "code",
   "execution_count": 5,
   "id": "23b28f82-38ed-4932-847e-549b47ce6d42",
   "metadata": {},
   "outputs": [
    {
     "data": {
      "text/plain": [
       "array([0., 0., 0., 0., 0., 0., 0., 0., 0., 0.])"
      ]
     },
     "execution_count": 5,
     "metadata": {},
     "output_type": "execute_result"
    }
   ],
   "source": [
    "np.zeros(10)"
   ]
  },
  {
   "cell_type": "code",
   "execution_count": 6,
   "id": "056e5b38-e835-4e60-9383-7c1f6cc68b10",
   "metadata": {},
   "outputs": [
    {
     "data": {
      "text/plain": [
       "array([1., 1., 1., 1., 1., 1., 1., 1., 1., 1.])"
      ]
     },
     "execution_count": 6,
     "metadata": {},
     "output_type": "execute_result"
    }
   ],
   "source": [
    "np.ones(10)"
   ]
  },
  {
   "cell_type": "code",
   "execution_count": 7,
   "id": "ba2511bb-2fbd-4bf6-98cd-3f9956d59fd8",
   "metadata": {},
   "outputs": [
    {
     "data": {
      "text/plain": [
       "array([2.5, 2.5, 2.5, 2.5, 2.5, 2.5, 2.5, 2.5, 2.5, 2.5])"
      ]
     },
     "execution_count": 7,
     "metadata": {},
     "output_type": "execute_result"
    }
   ],
   "source": [
    "np.full(10, 2.5)"
   ]
  },
  {
   "cell_type": "code",
   "execution_count": 8,
   "id": "44e13c36-3894-465c-8e60-02aecc0dc533",
   "metadata": {},
   "outputs": [
    {
     "data": {
      "text/plain": [
       "array([1, 2, 6, 7, 8])"
      ]
     },
     "execution_count": 8,
     "metadata": {},
     "output_type": "execute_result"
    }
   ],
   "source": [
    "a = np.array([1, 2, 6, 7, 8])\n",
    "a"
   ]
  },
  {
   "cell_type": "code",
   "execution_count": 10,
   "id": "f161b606-28ba-4b7b-9928-49e5f0defb71",
   "metadata": {},
   "outputs": [
    {
     "data": {
      "text/plain": [
       "6"
      ]
     },
     "execution_count": 10,
     "metadata": {},
     "output_type": "execute_result"
    }
   ],
   "source": [
    "a[2] #accessing element"
   ]
  },
  {
   "cell_type": "code",
   "execution_count": 11,
   "id": "28319dcc-41eb-476d-9a88-c98b6c2e78d5",
   "metadata": {},
   "outputs": [],
   "source": [
    "a[3] = 10 #assigning values"
   ]
  },
  {
   "cell_type": "code",
   "execution_count": 12,
   "id": "5ae249d4-7cf6-45b9-958c-58e835d58feb",
   "metadata": {},
   "outputs": [
    {
     "data": {
      "text/plain": [
       "array([ 1,  2,  6, 10,  8])"
      ]
     },
     "execution_count": 12,
     "metadata": {},
     "output_type": "execute_result"
    }
   ],
   "source": [
    "a"
   ]
  },
  {
   "cell_type": "code",
   "execution_count": 15,
   "id": "0f450426-2748-4aac-b936-ec7638a37d0f",
   "metadata": {},
   "outputs": [
    {
     "data": {
      "text/plain": [
       "array([0, 1, 2, 3, 4, 5, 6, 7, 8, 9])"
      ]
     },
     "execution_count": 15,
     "metadata": {},
     "output_type": "execute_result"
    }
   ],
   "source": [
    "np.arange(10) #not 10"
   ]
  },
  {
   "cell_type": "code",
   "execution_count": 18,
   "id": "db39e53c-919e-4060-a04d-c2a850ae4e0f",
   "metadata": {},
   "outputs": [
    {
     "data": {
      "text/plain": [
       "array([  0.,  10.,  20.,  30.,  40.,  50.,  60.,  70.,  80.,  90., 100.])"
      ]
     },
     "execution_count": 18,
     "metadata": {},
     "output_type": "execute_result"
    }
   ],
   "source": [
    "np.linspace(0, 100, 11)"
   ]
  },
  {
   "cell_type": "markdown",
   "id": "99e8c16d-1cb2-4a61-b8a3-ecc926375fb8",
   "metadata": {},
   "source": [
    "## Multi-dimentional arrays"
   ]
  },
  {
   "cell_type": "code",
   "execution_count": 20,
   "id": "614cf871-3cb7-40d9-abc1-b66ccf944b06",
   "metadata": {},
   "outputs": [
    {
     "data": {
      "text/plain": [
       "array([[0., 0.],\n",
       "       [0., 0.],\n",
       "       [0., 0.],\n",
       "       [0., 0.],\n",
       "       [0., 0.]])"
      ]
     },
     "execution_count": 20,
     "metadata": {},
     "output_type": "execute_result"
    }
   ],
   "source": [
    "np.zeros((5,2)) #5x2"
   ]
  },
  {
   "cell_type": "code",
   "execution_count": 21,
   "id": "b73a2ad8-7ffd-429e-91c6-89998631cc03",
   "metadata": {},
   "outputs": [
    {
     "data": {
      "text/plain": [
       "array([[1, 2, 3],\n",
       "       [4, 5, 6],\n",
       "       [7, 8, 9]])"
      ]
     },
     "execution_count": 21,
     "metadata": {},
     "output_type": "execute_result"
    }
   ],
   "source": [
    "np.array([\n",
    "    [1,2,3],\n",
    "    [4,5,6],\n",
    "    [7,8,9]\n",
    "])"
   ]
  },
  {
   "cell_type": "code",
   "execution_count": 24,
   "id": "c3b95c8f-6f5f-43f0-aebe-2084366ecc44",
   "metadata": {},
   "outputs": [
    {
     "data": {
      "text/plain": [
       "2"
      ]
     },
     "execution_count": 24,
     "metadata": {},
     "output_type": "execute_result"
    }
   ],
   "source": [
    "# accessing element\n",
    "matrix = np.array([\n",
    "    [1,2,3],\n",
    "    [4,5,6],\n",
    "    [7,8,9]\n",
    "])\n",
    "\n",
    "matrix[0][1] # row 0, column 1"
   ]
  },
  {
   "cell_type": "code",
   "execution_count": 25,
   "id": "f958c9df-644b-4335-9c5e-13e19afd9d09",
   "metadata": {},
   "outputs": [
    {
     "data": {
      "text/plain": [
       "array([4, 5, 6])"
      ]
     },
     "execution_count": 25,
     "metadata": {},
     "output_type": "execute_result"
    }
   ],
   "source": [
    "matrix[1] # accessing the row"
   ]
  },
  {
   "cell_type": "code",
   "execution_count": 28,
   "id": "4e90869d-c915-48d7-b563-68b406716cad",
   "metadata": {},
   "outputs": [
    {
     "data": {
      "text/plain": [
       "array([3, 6, 9])"
      ]
     },
     "execution_count": 28,
     "metadata": {},
     "output_type": "execute_result"
    }
   ],
   "source": [
    "matrix[:,2] # accessing the column"
   ]
  },
  {
   "cell_type": "code",
   "execution_count": 29,
   "id": "50e217ec-1676-4f4d-b00e-0a7be95567d0",
   "metadata": {},
   "outputs": [],
   "source": [
    "# assigning values\n",
    "matrix[2] = [11, 14, 15]"
   ]
  },
  {
   "cell_type": "code",
   "execution_count": 30,
   "id": "d5f31e86-b147-40cb-b77d-1ea7ff356e96",
   "metadata": {},
   "outputs": [
    {
     "data": {
      "text/plain": [
       "array([[ 1,  2,  3],\n",
       "       [ 4,  5,  6],\n",
       "       [11, 14, 15]])"
      ]
     },
     "execution_count": 30,
     "metadata": {},
     "output_type": "execute_result"
    }
   ],
   "source": [
    "matrix"
   ]
  },
  {
   "cell_type": "markdown",
   "id": "187312d9-5dbc-4293-9840-6a3940ac8a30",
   "metadata": {},
   "source": [
    "## Randomly generated arrays"
   ]
  },
  {
   "cell_type": "code",
   "execution_count": 38,
   "id": "bffde481-2617-4886-a482-7d2da3319c67",
   "metadata": {},
   "outputs": [
    {
     "data": {
      "text/plain": [
       "array([[0.4359949 , 0.02592623],\n",
       "       [0.54966248, 0.43532239],\n",
       "       [0.4203678 , 0.33033482],\n",
       "       [0.20464863, 0.61927097],\n",
       "       [0.29965467, 0.26682728]])"
      ]
     },
     "execution_count": 38,
     "metadata": {},
     "output_type": "execute_result"
    }
   ],
   "source": [
    "np.random.seed(2) # to get result reproducible\n",
    "np.random.rand(5,2)"
   ]
  },
  {
   "cell_type": "code",
   "execution_count": 39,
   "id": "a314b685-d9cf-42ef-a2a7-fa842408dd73",
   "metadata": {},
   "outputs": [
    {
     "data": {
      "text/plain": [
       "array([[-0.41675785, -0.05626683],\n",
       "       [-2.1361961 ,  1.64027081],\n",
       "       [-1.79343559, -0.84174737],\n",
       "       [ 0.50288142, -1.24528809],\n",
       "       [-1.05795222, -0.90900761]])"
      ]
     },
     "execution_count": 39,
     "metadata": {},
     "output_type": "execute_result"
    }
   ],
   "source": [
    "np.random.seed(2)\n",
    "np.random.randn(5, 2) #random normal"
   ]
  },
  {
   "cell_type": "code",
   "execution_count": 40,
   "id": "72dbd34b-b5b5-4fd5-9143-6c9ae2f8b38d",
   "metadata": {},
   "outputs": [
    {
     "data": {
      "text/plain": [
       "array([[40, 15],\n",
       "       [72, 22],\n",
       "       [43, 82],\n",
       "       [75,  7],\n",
       "       [34, 49]])"
      ]
     },
     "execution_count": 40,
     "metadata": {},
     "output_type": "execute_result"
    }
   ],
   "source": [
    "np.random.seed(2)\n",
    "np.random.randint(low=0,  high=100, size=(5,2))"
   ]
  },
  {
   "cell_type": "markdown",
   "id": "32f9fd2a-f3c2-4cbb-98ca-a6674767a49d",
   "metadata": {},
   "source": [
    "## Element-wise operations"
   ]
  },
  {
   "cell_type": "code",
   "execution_count": 41,
   "id": "ddd6feea-f343-47be-b838-2f5a4be828cf",
   "metadata": {},
   "outputs": [
    {
     "data": {
      "text/plain": [
       "array([0, 1, 2, 3, 4])"
      ]
     },
     "execution_count": 41,
     "metadata": {},
     "output_type": "execute_result"
    }
   ],
   "source": [
    "a = np.arange(5)\n",
    "a"
   ]
  },
  {
   "cell_type": "code",
   "execution_count": 44,
   "id": "7dc21616-4cf1-4128-9bba-99c797ebebf3",
   "metadata": {},
   "outputs": [],
   "source": [
    "# a + 1\n",
    "# a * 2\n",
    "# a / 100\n",
    "# 100 * a"
   ]
  },
  {
   "cell_type": "code",
   "execution_count": 45,
   "id": "13596673-c502-4894-8b48-93c4f43c2149",
   "metadata": {},
   "outputs": [],
   "source": [
    "b = (10 + (a * 2)) ** 2 / 100"
   ]
  },
  {
   "cell_type": "code",
   "execution_count": 46,
   "id": "601fa1b8-d036-4acd-b70b-19f9a210a30b",
   "metadata": {},
   "outputs": [
    {
     "data": {
      "text/plain": [
       "array([0, 1, 2, 3, 4])"
      ]
     },
     "execution_count": 46,
     "metadata": {},
     "output_type": "execute_result"
    }
   ],
   "source": [
    "a"
   ]
  },
  {
   "cell_type": "code",
   "execution_count": 47,
   "id": "65b380ed-aad7-45d5-a0bc-5bd27d6f1cab",
   "metadata": {},
   "outputs": [
    {
     "data": {
      "text/plain": [
       "array([1.  , 1.44, 1.96, 2.56, 3.24])"
      ]
     },
     "execution_count": 47,
     "metadata": {},
     "output_type": "execute_result"
    }
   ],
   "source": [
    "b"
   ]
  },
  {
   "cell_type": "markdown",
   "id": "c7e02a5b-e1b0-4d34-b389-77fa14a84ce4",
   "metadata": {},
   "source": [
    "## Comparison operations"
   ]
  },
  {
   "cell_type": "code",
   "execution_count": 48,
   "id": "3a108483-1628-499a-90be-9c8efef287d3",
   "metadata": {},
   "outputs": [
    {
     "data": {
      "text/plain": [
       "array([0, 1, 2, 3, 4])"
      ]
     },
     "execution_count": 48,
     "metadata": {},
     "output_type": "execute_result"
    }
   ],
   "source": [
    "a "
   ]
  },
  {
   "cell_type": "code",
   "execution_count": 49,
   "id": "79e2889f-6510-4f2a-a1db-b5738ddd0236",
   "metadata": {},
   "outputs": [
    {
     "data": {
      "text/plain": [
       "array([False, False,  True,  True,  True])"
      ]
     },
     "execution_count": 49,
     "metadata": {},
     "output_type": "execute_result"
    }
   ],
   "source": [
    "a >= 2"
   ]
  },
  {
   "cell_type": "code",
   "execution_count": 50,
   "id": "2dd3e963-22ae-412e-ade0-881cbc4c1cc2",
   "metadata": {},
   "outputs": [
    {
     "data": {
      "text/plain": [
       "array([1.  , 1.44, 1.96, 2.56, 3.24])"
      ]
     },
     "execution_count": 50,
     "metadata": {},
     "output_type": "execute_result"
    }
   ],
   "source": [
    "b"
   ]
  },
  {
   "cell_type": "code",
   "execution_count": 51,
   "id": "dc8e69d4-0d3c-4a0a-a862-508c4201c453",
   "metadata": {},
   "outputs": [
    {
     "data": {
      "text/plain": [
       "array([False, False,  True,  True,  True])"
      ]
     },
     "execution_count": 51,
     "metadata": {},
     "output_type": "execute_result"
    }
   ],
   "source": [
    "a > b"
   ]
  },
  {
   "cell_type": "code",
   "execution_count": 53,
   "id": "04c49fed-e0e0-4c38-b57c-2901ce883ef6",
   "metadata": {},
   "outputs": [
    {
     "data": {
      "text/plain": [
       "array([2, 3, 4])"
      ]
     },
     "execution_count": 53,
     "metadata": {},
     "output_type": "execute_result"
    }
   ],
   "source": [
    "a[a > b] # return which conditions are true"
   ]
  },
  {
   "cell_type": "markdown",
   "id": "f351cfd2-300a-4824-957a-08f0ea7a26ea",
   "metadata": {},
   "source": [
    "## Summarizing operations"
   ]
  },
  {
   "cell_type": "code",
   "execution_count": 55,
   "id": "0c7314d1-081f-4ae7-a746-2d7605fb567b",
   "metadata": {},
   "outputs": [
    {
     "data": {
      "text/plain": [
       "0"
      ]
     },
     "execution_count": 55,
     "metadata": {},
     "output_type": "execute_result"
    }
   ],
   "source": [
    "a.min() # smallest num"
   ]
  },
  {
   "cell_type": "code",
   "execution_count": 56,
   "id": "d06da153-81bf-4c32-b871-78031b247fd9",
   "metadata": {},
   "outputs": [
    {
     "data": {
      "text/plain": [
       "4"
      ]
     },
     "execution_count": 56,
     "metadata": {},
     "output_type": "execute_result"
    }
   ],
   "source": [
    "a.max() # maximum num"
   ]
  },
  {
   "cell_type": "code",
   "execution_count": 57,
   "id": "4ed03857-5a50-40b5-8aa6-7410b18adfac",
   "metadata": {},
   "outputs": [
    {
     "data": {
      "text/plain": [
       "10"
      ]
     },
     "execution_count": 57,
     "metadata": {},
     "output_type": "execute_result"
    }
   ],
   "source": [
    "a.sum() # total sum"
   ]
  },
  {
   "cell_type": "code",
   "execution_count": 61,
   "id": "38674899-5f9a-4d19-b9e0-dd80ec61f180",
   "metadata": {},
   "outputs": [
    {
     "data": {
      "text/plain": [
       "1.4142135623730951"
      ]
     },
     "execution_count": 61,
     "metadata": {},
     "output_type": "execute_result"
    }
   ],
   "source": [
    "a.std() # standard deviation"
   ]
  },
  {
   "cell_type": "code",
   "execution_count": 60,
   "id": "4e940c31-6c53-4d9b-859d-988f12891485",
   "metadata": {},
   "outputs": [
    {
     "data": {
      "text/plain": [
       "5"
      ]
     },
     "execution_count": 60,
     "metadata": {},
     "output_type": "execute_result"
    }
   ],
   "source": [
    "len(a)"
   ]
  },
  {
   "cell_type": "code",
   "execution_count": null,
   "id": "3e034e0e-49ab-4271-968f-3fe036cc3092",
   "metadata": {},
   "outputs": [],
   "source": []
  }
 ],
 "metadata": {
  "kernelspec": {
   "display_name": "Python 3 (ipykernel)",
   "language": "python",
   "name": "python3"
  },
  "language_info": {
   "codemirror_mode": {
    "name": "ipython",
    "version": 3
   },
   "file_extension": ".py",
   "mimetype": "text/x-python",
   "name": "python",
   "nbconvert_exporter": "python",
   "pygments_lexer": "ipython3",
   "version": "3.9.19"
  }
 },
 "nbformat": 4,
 "nbformat_minor": 5
}
