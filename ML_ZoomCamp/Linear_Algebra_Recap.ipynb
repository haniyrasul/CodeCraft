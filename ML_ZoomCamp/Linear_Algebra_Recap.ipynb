{
 "cells": [
  {
   "cell_type": "markdown",
   "id": "cc97cae1-7c38-4eff-99ad-c1a02d9396b4",
   "metadata": {},
   "source": [
    "# Machine Learning Zoomcamp"
   ]
  },
  {
   "cell_type": "markdown",
   "id": "43a9deff-1078-4aa9-8aa4-36d45f07abeb",
   "metadata": {},
   "source": [
    "* 1.8 Linear Algebra Recap\n",
    "    * Structure:\n",
    "      * Vector operation\n",
    "      * Multiplication:\n",
    "         * Vector - Vector multiplication: Dot Product\n",
    "         * Matrix - Vector multiplication\n",
    "         * Materix - Matrix multiplication\n",
    "      * Identity matrix\n",
    "      * Inverse   "
   ]
  },
  {
   "cell_type": "code",
   "execution_count": 1,
   "id": "9fc9bbd1-b6da-4956-8212-a57e15c37f41",
   "metadata": {},
   "outputs": [],
   "source": [
    "import numpy as np"
   ]
  },
  {
   "cell_type": "markdown",
   "id": "e70cea8a-9dcd-48e7-87a9-e09d7691e165",
   "metadata": {},
   "source": [
    "## Vector Opeartions"
   ]
  },
  {
   "cell_type": "code",
   "execution_count": 2,
   "id": "bc7bd443-20a8-407f-8eab-42780deef523",
   "metadata": {},
   "outputs": [],
   "source": [
    "u = np.array([2, 4, 5, 6])"
   ]
  },
  {
   "cell_type": "code",
   "execution_count": 3,
   "id": "6bd5b391-4171-44e6-92ed-249f85a70604",
   "metadata": {},
   "outputs": [
    {
     "data": {
      "text/plain": [
       "array([2, 4, 5, 6])"
      ]
     },
     "execution_count": 3,
     "metadata": {},
     "output_type": "execute_result"
    }
   ],
   "source": [
    "u"
   ]
  },
  {
   "cell_type": "code",
   "execution_count": 4,
   "id": "81382823-1254-47d8-aacf-93e46283317b",
   "metadata": {},
   "outputs": [],
   "source": [
    "v = np.array([1, 0, 0, 2])"
   ]
  },
  {
   "cell_type": "code",
   "execution_count": 5,
   "id": "b3ba4f22-a534-43ee-a18a-65a1cc29108c",
   "metadata": {},
   "outputs": [
    {
     "data": {
      "text/plain": [
       "array([1, 0, 0, 2])"
      ]
     },
     "execution_count": 5,
     "metadata": {},
     "output_type": "execute_result"
    }
   ],
   "source": [
    "v"
   ]
  },
  {
   "cell_type": "code",
   "execution_count": 6,
   "id": "bbada201-0d42-4376-9275-43b07186f980",
   "metadata": {},
   "outputs": [
    {
     "data": {
      "text/plain": [
       "array([3, 4, 5, 8])"
      ]
     },
     "execution_count": 6,
     "metadata": {},
     "output_type": "execute_result"
    }
   ],
   "source": [
    "u + v"
   ]
  },
  {
   "cell_type": "code",
   "execution_count": 9,
   "id": "46e48508-662c-46c4-854f-a49209cc416b",
   "metadata": {},
   "outputs": [
    {
     "data": {
      "text/plain": [
       "array([ 4,  8, 10, 12])"
      ]
     },
     "execution_count": 9,
     "metadata": {},
     "output_type": "execute_result"
    }
   ],
   "source": [
    "u * 2"
   ]
  },
  {
   "cell_type": "markdown",
   "id": "556ad4fc-cae0-49da-bf69-4471bd057572",
   "metadata": {},
   "source": [
    "## Multiplication"
   ]
  },
  {
   "cell_type": "markdown",
   "id": "a7449f5f-ded1-40e1-a44a-28b532d69e30",
   "metadata": {},
   "source": [
    "### Vector - Vector Multiplication: Dot Product"
   ]
  },
  {
   "cell_type": "code",
   "execution_count": 13,
   "id": "74dc5ac0-180f-453c-a828-c99c45d75921",
   "metadata": {},
   "outputs": [],
   "source": [
    "def vector_vector_multiplicatio(u, v):\n",
    "    assert u.shape[0] == v.shape[0]\n",
    "    \n",
    "    n = u.shape[0]\n",
    "    \n",
    "    result = 0.0\n",
    "    \n",
    "    for i in range(n):\n",
    "        result = result + u[i] * v[i]\n",
    "\n",
    "    return result"
   ]
  },
  {
   "cell_type": "code",
   "execution_count": 14,
   "id": "18cb0fb5-12de-4f38-8e4b-5405049f01bd",
   "metadata": {},
   "outputs": [
    {
     "data": {
      "text/plain": [
       "14.0"
      ]
     },
     "execution_count": 14,
     "metadata": {},
     "output_type": "execute_result"
    }
   ],
   "source": [
    "vector_vector_multiplicatio(u,v)"
   ]
  },
  {
   "cell_type": "code",
   "execution_count": 15,
   "id": "29b6bb8b-aefd-4abd-98d1-53e64799a5e1",
   "metadata": {},
   "outputs": [
    {
     "data": {
      "text/plain": [
       "14"
      ]
     },
     "execution_count": 15,
     "metadata": {},
     "output_type": "execute_result"
    }
   ],
   "source": [
    "# prebuilt function\n",
    "u.dot(v)"
   ]
  },
  {
   "cell_type": "markdown",
   "id": "34a20733-5edf-413e-a38b-6229ed2f0e92",
   "metadata": {},
   "source": [
    "## Matrix - Vector Multiplicatoin"
   ]
  },
  {
   "cell_type": "code",
   "execution_count": 16,
   "id": "bc20fc8c-1c42-4edd-980a-bc81aa303ad6",
   "metadata": {},
   "outputs": [],
   "source": [
    "U = np.array([\n",
    "    [2, 4, 5, 6],\n",
    "    [1, 2, 1, 2],\n",
    "    [3, 1, 2, 1]\n",
    "])"
   ]
  },
  {
   "cell_type": "code",
   "execution_count": 17,
   "id": "2921b583-cec5-42e1-a090-f6ea438334fe",
   "metadata": {},
   "outputs": [
    {
     "data": {
      "text/plain": [
       "array([[2, 4, 5, 6],\n",
       "       [1, 2, 1, 2],\n",
       "       [3, 1, 2, 1]])"
      ]
     },
     "execution_count": 17,
     "metadata": {},
     "output_type": "execute_result"
    }
   ],
   "source": [
    "U"
   ]
  },
  {
   "cell_type": "code",
   "execution_count": 88,
   "id": "215d51a7-4f2b-40e6-ac61-5a96234a0165",
   "metadata": {},
   "outputs": [],
   "source": [
    "# my def\n",
    "def my_matrix_vector_multiplication(u,v):\n",
    "    assert u.shape[1] == v.shape[0]\n",
    "\n",
    "    n, m = u.shape[0], u.shape[1]\n",
    "    \n",
    "    vector = []\n",
    "    for i in range(n):\n",
    "        results = 0.0\n",
    "        for j in range(m):\n",
    "            results = results + u[i][j] * v[j]\n",
    "        vector.append(results)\n",
    "    return vector"
   ]
  },
  {
   "cell_type": "code",
   "execution_count": 89,
   "id": "018e0fde-6a52-4fb7-8743-76bf556281b5",
   "metadata": {},
   "outputs": [],
   "source": [
    "def matrix_vector_multiplication(u,v):\n",
    "    assert u.shape[1] == v.shape[0]\n",
    "\n",
    "    num_rows = u.shape[0]\n",
    "\n",
    "    result = np.zeros(num_rows)\n",
    "\n",
    "    for i in range(num_rows):\n",
    "        result[i] = vector_vector_multiplicatio(u[i], v)\n",
    "\n",
    "    return result"
   ]
  },
  {
   "cell_type": "code",
   "execution_count": 90,
   "id": "a4d84904-8c9d-42bf-87c8-6f3d0c5d31d4",
   "metadata": {},
   "outputs": [
    {
     "data": {
      "text/plain": [
       "[14.0, 5.0, 5.0]"
      ]
     },
     "execution_count": 90,
     "metadata": {},
     "output_type": "execute_result"
    }
   ],
   "source": [
    "my_matrix_vector_multiplication(U, v)"
   ]
  },
  {
   "cell_type": "code",
   "execution_count": 91,
   "id": "2b3defeb-f415-4fc2-a154-d1eb830155d1",
   "metadata": {},
   "outputs": [
    {
     "data": {
      "text/plain": [
       "array([14.,  5.,  5.])"
      ]
     },
     "execution_count": 91,
     "metadata": {},
     "output_type": "execute_result"
    }
   ],
   "source": [
    "matrix_vector_multiplication(U, v)"
   ]
  },
  {
   "cell_type": "code",
   "execution_count": 93,
   "id": "b222b3f1-ef57-43d5-94d9-eab946f9335a",
   "metadata": {},
   "outputs": [
    {
     "data": {
      "text/plain": [
       "array([14,  5,  5])"
      ]
     },
     "execution_count": 93,
     "metadata": {},
     "output_type": "execute_result"
    }
   ],
   "source": [
    "# prebuilt function\n",
    "U.dot(v)"
   ]
  },
  {
   "cell_type": "markdown",
   "id": "6d1155ee-eaad-4cd9-95fe-f643e922355a",
   "metadata": {},
   "source": [
    "## Matrix - Matrix Multiplcations"
   ]
  },
  {
   "cell_type": "code",
   "execution_count": 94,
   "id": "88c224a9-f619-4527-82c0-c803f522d886",
   "metadata": {},
   "outputs": [],
   "source": [
    "V = np.array([\n",
    "    [1,1,2],\n",
    "    [0, 0.5, 1],\n",
    "    [0,2,1],\n",
    "    [2, 1, 0]\n",
    "])"
   ]
  },
  {
   "cell_type": "code",
   "execution_count": 95,
   "id": "9a16bb4b-c71c-4bb4-9ecd-67e34f2e1bd1",
   "metadata": {},
   "outputs": [],
   "source": [
    "def matrix_matrix_multiplication(U, v):\n",
    "    assert U.shape[1] == V.shape[0]\n",
    "\n",
    "    num_rows = U.shape[0]\n",
    "    num_cols = V.shape[1]\n",
    "\n",
    "    result = np.zeros((num_rows, num_cols))\n",
    "\n",
    "    for i in range(num_cols):\n",
    "        vi = V[:, i]\n",
    "        Uvi = matrix_vector_multiplication(U, vi)\n",
    "        result[:, i] = Uvi\n",
    "\n",
    "    return result"
   ]
  },
  {
   "cell_type": "code",
   "execution_count": 96,
   "id": "d3ecd52f-5b11-44e7-be0e-af4438015d8c",
   "metadata": {},
   "outputs": [
    {
     "data": {
      "text/plain": [
       "array([[14. , 20. , 13. ],\n",
       "       [ 5. ,  6. ,  5. ],\n",
       "       [ 5. ,  8.5,  9. ]])"
      ]
     },
     "execution_count": 96,
     "metadata": {},
     "output_type": "execute_result"
    }
   ],
   "source": [
    "matrix_matrix_multiplication(U, V)"
   ]
  },
  {
   "cell_type": "code",
   "execution_count": 98,
   "id": "b67d1a21-2e1f-4071-8261-f2fa4ba188ea",
   "metadata": {},
   "outputs": [
    {
     "data": {
      "text/plain": [
       "array([[14. , 20. , 13. ],\n",
       "       [ 5. ,  6. ,  5. ],\n",
       "       [ 5. ,  8.5,  9. ]])"
      ]
     },
     "execution_count": 98,
     "metadata": {},
     "output_type": "execute_result"
    }
   ],
   "source": [
    "# prebuit functions\n",
    "U.dot(V)"
   ]
  },
  {
   "cell_type": "markdown",
   "id": "06efea0d-ca52-41c9-8308-8a71e606bf9b",
   "metadata": {},
   "source": [
    "## Indentity Matrix"
   ]
  },
  {
   "cell_type": "code",
   "execution_count": 101,
   "id": "2b6618ab-a07f-4e80-8566-56c48234144e",
   "metadata": {},
   "outputs": [
    {
     "data": {
      "text/plain": [
       "array([[1., 0., 0., 0., 0., 0., 0., 0., 0., 0.],\n",
       "       [0., 1., 0., 0., 0., 0., 0., 0., 0., 0.],\n",
       "       [0., 0., 1., 0., 0., 0., 0., 0., 0., 0.],\n",
       "       [0., 0., 0., 1., 0., 0., 0., 0., 0., 0.],\n",
       "       [0., 0., 0., 0., 1., 0., 0., 0., 0., 0.],\n",
       "       [0., 0., 0., 0., 0., 1., 0., 0., 0., 0.],\n",
       "       [0., 0., 0., 0., 0., 0., 1., 0., 0., 0.],\n",
       "       [0., 0., 0., 0., 0., 0., 0., 1., 0., 0.],\n",
       "       [0., 0., 0., 0., 0., 0., 0., 0., 1., 0.],\n",
       "       [0., 0., 0., 0., 0., 0., 0., 0., 0., 1.]])"
      ]
     },
     "execution_count": 101,
     "metadata": {},
     "output_type": "execute_result"
    }
   ],
   "source": [
    "np.eye(10) #diagonal is one"
   ]
  },
  {
   "cell_type": "code",
   "execution_count": 102,
   "id": "cb319a6a-fbba-49a6-aa1f-c82782c17b08",
   "metadata": {},
   "outputs": [],
   "source": [
    "I = np.eye(3)"
   ]
  },
  {
   "cell_type": "code",
   "execution_count": 103,
   "id": "b505055c-076e-49f8-90d6-f32a1c265671",
   "metadata": {},
   "outputs": [
    {
     "data": {
      "text/plain": [
       "array([[1. , 1. , 2. ],\n",
       "       [0. , 0.5, 1. ],\n",
       "       [0. , 2. , 1. ],\n",
       "       [2. , 1. , 0. ]])"
      ]
     },
     "execution_count": 103,
     "metadata": {},
     "output_type": "execute_result"
    }
   ],
   "source": [
    "V"
   ]
  },
  {
   "cell_type": "code",
   "execution_count": 104,
   "id": "328f855a-6c23-44e6-bcd6-a738b5eedaef",
   "metadata": {},
   "outputs": [
    {
     "data": {
      "text/plain": [
       "array([[1. , 1. , 2. ],\n",
       "       [0. , 0.5, 1. ],\n",
       "       [0. , 2. , 1. ],\n",
       "       [2. , 1. , 0. ]])"
      ]
     },
     "execution_count": 104,
     "metadata": {},
     "output_type": "execute_result"
    }
   ],
   "source": [
    "V.dot(I)"
   ]
  },
  {
   "cell_type": "markdown",
   "id": "832cdb8c-1f4d-45dd-a3ea-3cc0d52146db",
   "metadata": {},
   "source": [
    "# Inverse"
   ]
  },
  {
   "cell_type": "code",
   "execution_count": 106,
   "id": "0d0adfde-fd60-43f1-b1a1-b028f9b6ab83",
   "metadata": {},
   "outputs": [
    {
     "data": {
      "text/plain": [
       "array([[1. , 1. , 2. ],\n",
       "       [0. , 0.5, 1. ],\n",
       "       [0. , 2. , 1. ]])"
      ]
     },
     "execution_count": 106,
     "metadata": {},
     "output_type": "execute_result"
    }
   ],
   "source": [
    "Vs = V[[0, 1, 2]]\n",
    "Vs"
   ]
  },
  {
   "cell_type": "code",
   "execution_count": 109,
   "id": "f3ae1c4f-0443-422f-88f9-0e80d475e791",
   "metadata": {},
   "outputs": [
    {
     "data": {
      "text/plain": [
       "array([[ 1.        , -2.        ,  0.        ],\n",
       "       [ 0.        , -0.66666667,  0.66666667],\n",
       "       [ 0.        ,  1.33333333, -0.33333333]])"
      ]
     },
     "execution_count": 109,
     "metadata": {},
     "output_type": "execute_result"
    }
   ],
   "source": [
    "Vs_inv = np.linalg.inv(Vs)\n",
    "Vs_inv"
   ]
  },
  {
   "cell_type": "code",
   "execution_count": 110,
   "id": "526f54a8-1d96-4d4e-9af9-b0b81e4529cb",
   "metadata": {},
   "outputs": [
    {
     "data": {
      "text/plain": [
       "array([[1., 0., 0.],\n",
       "       [0., 1., 0.],\n",
       "       [0., 0., 1.]])"
      ]
     },
     "execution_count": 110,
     "metadata": {},
     "output_type": "execute_result"
    }
   ],
   "source": [
    "Vs.dot(Vs_inv)"
   ]
  },
  {
   "cell_type": "code",
   "execution_count": null,
   "id": "38c441b4-301d-41b2-9d42-27231485dd97",
   "metadata": {},
   "outputs": [],
   "source": []
  }
 ],
 "metadata": {
  "kernelspec": {
   "display_name": "Python 3 (ipykernel)",
   "language": "python",
   "name": "python3"
  },
  "language_info": {
   "codemirror_mode": {
    "name": "ipython",
    "version": 3
   },
   "file_extension": ".py",
   "mimetype": "text/x-python",
   "name": "python",
   "nbconvert_exporter": "python",
   "pygments_lexer": "ipython3",
   "version": "3.9.19"
  }
 },
 "nbformat": 4,
 "nbformat_minor": 5
}
